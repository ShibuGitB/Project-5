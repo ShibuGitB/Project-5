{
  "cells": [
    {
      "cell_type": "markdown",
      "metadata": {
        "id": "view-in-github",
        "colab_type": "text"
      },
      "source": [
        "<a href=\"https://colab.research.google.com/github/ShibuGitB/Project-5/blob/main/Netflix_Review_Rating_NLP_Project.ipynb\" target=\"_parent\"><img src=\"https://colab.research.google.com/assets/colab-badge.svg\" alt=\"Open In Colab\"/></a>"
      ]
    },
    {
      "cell_type": "markdown",
      "source": [
        "# ***Netflix Review Rating : NLP-ANN Project***"
      ],
      "metadata": {
        "id": "F2T0i_PkwONe"
      }
    },
    {
      "cell_type": "markdown",
      "source": [
        "***Importing Necessary Packages***"
      ],
      "metadata": {
        "id": "sKBmU17zwFdt"
      }
    },
    {
      "cell_type": "code",
      "execution_count": 1,
      "metadata": {
        "id": "hWRVUhQgFa2b"
      },
      "outputs": [],
      "source": [
        "import pandas as pd\n",
        "import nltk\n",
        "from nltk import TweetTokenizer\n",
        "from nltk.corpus import stopwords\n",
        "from nltk.stem import SnowballStemmer\n",
        "from sklearn.feature_extraction.text import TfidfVectorizer\n",
        "from sklearn.preprocessing import LabelEncoder\n",
        "from keras.utils import to_categorical\n",
        "import numpy as np\n",
        "from sklearn.model_selection import train_test_split\n",
        "from keras.models import Sequential\n",
        "from keras.layers import Dense\n",
        "import joblib"
      ]
    },
    {
      "cell_type": "markdown",
      "source": [
        "***Dataset (Kaggle)***"
      ],
      "metadata": {
        "id": "7Y8p5txuweEg"
      }
    },
    {
      "cell_type": "code",
      "execution_count": 2,
      "metadata": {
        "colab": {
          "base_uri": "https://localhost:8080/",
          "height": 423
        },
        "id": "5Rs9EpgHH_xh",
        "outputId": "769ba495-bd82-4fa7-a864-078427b8a021"
      },
      "outputs": [
        {
          "output_type": "execute_result",
          "data": {
            "text/plain": [
              "                                  reviewId         userName  \\\n",
              "0     c4e9d6ca-0314-495d-a2a1-90cba9ea4e89     Anne Cynthia   \n",
              "1     f1343796-c218-46be-8f36-964c27e41667    Stephanie Boo   \n",
              "2     022e3888-80d9-4228-bc3e-4d9c76768492    Allysa Lovatt   \n",
              "3     a0d7e38f-7345-467d-a8cc-52770f5bc52f  Ahmad Bawadekji   \n",
              "4     3e0f3417-71e0-48a3-8e03-707eb05790d5       panty tera   \n",
              "...                                    ...              ...   \n",
              "9995  9029c0cb-a784-4f58-b051-a84a263e8b54        Jessiebon   \n",
              "9996  b0d38b7e-9b6b-448b-aaad-b14f704969ba  Rebecca Rowland   \n",
              "9997  ad1a7052-ac4b-416a-a89f-77c8582a2a6e    A Google user   \n",
              "9998  dcbfb2fa-6390-43e8-bdf6-aa4c1d069ee0    A Google user   \n",
              "9999  be4ea72d-b789-48c3-8399-a3931b9ebf9f     Hannah Evans   \n",
              "\n",
              "                                                content  score  thumbsUpCount  \\\n",
              "0                                                Nice 👍      3              0   \n",
              "1     Netflix has been crashing and crashing! you ne...      1              0   \n",
              "2     I am extremely disappointed that in order to k...      1              0   \n",
              "3                                                   bad      1              0   \n",
              "4     edit: currently cannot open the app, I get an ...      4              0   \n",
              "...                                                 ...    ...            ...   \n",
              "9995  I enjoyed Netflix for several years! Remember ...      1              0   \n",
              "9996  The app is fine and it works great. I use it w...      3            108   \n",
              "9997  I've only had positive experiences with Netfli...      5             34   \n",
              "9998  Stable enough app for an android. Should have ...      4             19   \n",
              "9999  I'm annoyed because many of my shows that I've...      1            132   \n",
              "\n",
              "        reviewCreatedVersion                   at              appVersion  \n",
              "0     7.120.6 build 63 35594  2024-05-27 22:45:10  7.120.6 build 63 35594  \n",
              "1      8.115.2 build 6 50688  2024-05-27 22:40:30   8.115.2 build 6 50688  \n",
              "2      8.115.2 build 6 50688  2024-05-27 22:39:35   8.115.2 build 6 50688  \n",
              "3      8.108.0 build 2 50642  2024-05-27 22:38:05   8.108.0 build 2 50642  \n",
              "4      8.115.2 build 6 50688  2024-05-27 22:33:18   8.115.2 build 6 50688  \n",
              "...                      ...                  ...                     ...  \n",
              "9995   7.66.0 build 19 35000  2023-06-20 19:19:30   7.66.0 build 19 35000  \n",
              "9996    8.30.0 build 5 40236  2022-06-14 03:10:50    8.30.0 build 5 40236  \n",
              "9997   7.30.0 build 10 34524  2019-10-17 13:16:27   7.30.0 build 10 34524  \n",
              "9998   7.24.2 build 39 34469  2019-09-12 21:13:36   7.24.2 build 39 34469  \n",
              "9999   8.30.3 build 14 50239  2022-07-09 14:55:41   8.30.3 build 14 50239  \n",
              "\n",
              "[10000 rows x 8 columns]"
            ],
            "text/html": [
              "\n",
              "  <div id=\"df-b533f3f3-a6ec-4b3f-9ef1-89a29b750640\" class=\"colab-df-container\">\n",
              "    <div>\n",
              "<style scoped>\n",
              "    .dataframe tbody tr th:only-of-type {\n",
              "        vertical-align: middle;\n",
              "    }\n",
              "\n",
              "    .dataframe tbody tr th {\n",
              "        vertical-align: top;\n",
              "    }\n",
              "\n",
              "    .dataframe thead th {\n",
              "        text-align: right;\n",
              "    }\n",
              "</style>\n",
              "<table border=\"1\" class=\"dataframe\">\n",
              "  <thead>\n",
              "    <tr style=\"text-align: right;\">\n",
              "      <th></th>\n",
              "      <th>reviewId</th>\n",
              "      <th>userName</th>\n",
              "      <th>content</th>\n",
              "      <th>score</th>\n",
              "      <th>thumbsUpCount</th>\n",
              "      <th>reviewCreatedVersion</th>\n",
              "      <th>at</th>\n",
              "      <th>appVersion</th>\n",
              "    </tr>\n",
              "  </thead>\n",
              "  <tbody>\n",
              "    <tr>\n",
              "      <th>0</th>\n",
              "      <td>c4e9d6ca-0314-495d-a2a1-90cba9ea4e89</td>\n",
              "      <td>Anne Cynthia</td>\n",
              "      <td>Nice 👍</td>\n",
              "      <td>3</td>\n",
              "      <td>0</td>\n",
              "      <td>7.120.6 build 63 35594</td>\n",
              "      <td>2024-05-27 22:45:10</td>\n",
              "      <td>7.120.6 build 63 35594</td>\n",
              "    </tr>\n",
              "    <tr>\n",
              "      <th>1</th>\n",
              "      <td>f1343796-c218-46be-8f36-964c27e41667</td>\n",
              "      <td>Stephanie Boo</td>\n",
              "      <td>Netflix has been crashing and crashing! you ne...</td>\n",
              "      <td>1</td>\n",
              "      <td>0</td>\n",
              "      <td>8.115.2 build 6 50688</td>\n",
              "      <td>2024-05-27 22:40:30</td>\n",
              "      <td>8.115.2 build 6 50688</td>\n",
              "    </tr>\n",
              "    <tr>\n",
              "      <th>2</th>\n",
              "      <td>022e3888-80d9-4228-bc3e-4d9c76768492</td>\n",
              "      <td>Allysa Lovatt</td>\n",
              "      <td>I am extremely disappointed that in order to k...</td>\n",
              "      <td>1</td>\n",
              "      <td>0</td>\n",
              "      <td>8.115.2 build 6 50688</td>\n",
              "      <td>2024-05-27 22:39:35</td>\n",
              "      <td>8.115.2 build 6 50688</td>\n",
              "    </tr>\n",
              "    <tr>\n",
              "      <th>3</th>\n",
              "      <td>a0d7e38f-7345-467d-a8cc-52770f5bc52f</td>\n",
              "      <td>Ahmad Bawadekji</td>\n",
              "      <td>bad</td>\n",
              "      <td>1</td>\n",
              "      <td>0</td>\n",
              "      <td>8.108.0 build 2 50642</td>\n",
              "      <td>2024-05-27 22:38:05</td>\n",
              "      <td>8.108.0 build 2 50642</td>\n",
              "    </tr>\n",
              "    <tr>\n",
              "      <th>4</th>\n",
              "      <td>3e0f3417-71e0-48a3-8e03-707eb05790d5</td>\n",
              "      <td>panty tera</td>\n",
              "      <td>edit: currently cannot open the app, I get an ...</td>\n",
              "      <td>4</td>\n",
              "      <td>0</td>\n",
              "      <td>8.115.2 build 6 50688</td>\n",
              "      <td>2024-05-27 22:33:18</td>\n",
              "      <td>8.115.2 build 6 50688</td>\n",
              "    </tr>\n",
              "    <tr>\n",
              "      <th>...</th>\n",
              "      <td>...</td>\n",
              "      <td>...</td>\n",
              "      <td>...</td>\n",
              "      <td>...</td>\n",
              "      <td>...</td>\n",
              "      <td>...</td>\n",
              "      <td>...</td>\n",
              "      <td>...</td>\n",
              "    </tr>\n",
              "    <tr>\n",
              "      <th>9995</th>\n",
              "      <td>9029c0cb-a784-4f58-b051-a84a263e8b54</td>\n",
              "      <td>Jessiebon</td>\n",
              "      <td>I enjoyed Netflix for several years! Remember ...</td>\n",
              "      <td>1</td>\n",
              "      <td>0</td>\n",
              "      <td>7.66.0 build 19 35000</td>\n",
              "      <td>2023-06-20 19:19:30</td>\n",
              "      <td>7.66.0 build 19 35000</td>\n",
              "    </tr>\n",
              "    <tr>\n",
              "      <th>9996</th>\n",
              "      <td>b0d38b7e-9b6b-448b-aaad-b14f704969ba</td>\n",
              "      <td>Rebecca Rowland</td>\n",
              "      <td>The app is fine and it works great. I use it w...</td>\n",
              "      <td>3</td>\n",
              "      <td>108</td>\n",
              "      <td>8.30.0 build 5 40236</td>\n",
              "      <td>2022-06-14 03:10:50</td>\n",
              "      <td>8.30.0 build 5 40236</td>\n",
              "    </tr>\n",
              "    <tr>\n",
              "      <th>9997</th>\n",
              "      <td>ad1a7052-ac4b-416a-a89f-77c8582a2a6e</td>\n",
              "      <td>A Google user</td>\n",
              "      <td>I've only had positive experiences with Netfli...</td>\n",
              "      <td>5</td>\n",
              "      <td>34</td>\n",
              "      <td>7.30.0 build 10 34524</td>\n",
              "      <td>2019-10-17 13:16:27</td>\n",
              "      <td>7.30.0 build 10 34524</td>\n",
              "    </tr>\n",
              "    <tr>\n",
              "      <th>9998</th>\n",
              "      <td>dcbfb2fa-6390-43e8-bdf6-aa4c1d069ee0</td>\n",
              "      <td>A Google user</td>\n",
              "      <td>Stable enough app for an android. Should have ...</td>\n",
              "      <td>4</td>\n",
              "      <td>19</td>\n",
              "      <td>7.24.2 build 39 34469</td>\n",
              "      <td>2019-09-12 21:13:36</td>\n",
              "      <td>7.24.2 build 39 34469</td>\n",
              "    </tr>\n",
              "    <tr>\n",
              "      <th>9999</th>\n",
              "      <td>be4ea72d-b789-48c3-8399-a3931b9ebf9f</td>\n",
              "      <td>Hannah Evans</td>\n",
              "      <td>I'm annoyed because many of my shows that I've...</td>\n",
              "      <td>1</td>\n",
              "      <td>132</td>\n",
              "      <td>8.30.3 build 14 50239</td>\n",
              "      <td>2022-07-09 14:55:41</td>\n",
              "      <td>8.30.3 build 14 50239</td>\n",
              "    </tr>\n",
              "  </tbody>\n",
              "</table>\n",
              "<p>10000 rows × 8 columns</p>\n",
              "</div>\n",
              "    <div class=\"colab-df-buttons\">\n",
              "\n",
              "  <div class=\"colab-df-container\">\n",
              "    <button class=\"colab-df-convert\" onclick=\"convertToInteractive('df-b533f3f3-a6ec-4b3f-9ef1-89a29b750640')\"\n",
              "            title=\"Convert this dataframe to an interactive table.\"\n",
              "            style=\"display:none;\">\n",
              "\n",
              "  <svg xmlns=\"http://www.w3.org/2000/svg\" height=\"24px\" viewBox=\"0 -960 960 960\">\n",
              "    <path d=\"M120-120v-720h720v720H120Zm60-500h600v-160H180v160Zm220 220h160v-160H400v160Zm0 220h160v-160H400v160ZM180-400h160v-160H180v160Zm440 0h160v-160H620v160ZM180-180h160v-160H180v160Zm440 0h160v-160H620v160Z\"/>\n",
              "  </svg>\n",
              "    </button>\n",
              "\n",
              "  <style>\n",
              "    .colab-df-container {\n",
              "      display:flex;\n",
              "      gap: 12px;\n",
              "    }\n",
              "\n",
              "    .colab-df-convert {\n",
              "      background-color: #E8F0FE;\n",
              "      border: none;\n",
              "      border-radius: 50%;\n",
              "      cursor: pointer;\n",
              "      display: none;\n",
              "      fill: #1967D2;\n",
              "      height: 32px;\n",
              "      padding: 0 0 0 0;\n",
              "      width: 32px;\n",
              "    }\n",
              "\n",
              "    .colab-df-convert:hover {\n",
              "      background-color: #E2EBFA;\n",
              "      box-shadow: 0px 1px 2px rgba(60, 64, 67, 0.3), 0px 1px 3px 1px rgba(60, 64, 67, 0.15);\n",
              "      fill: #174EA6;\n",
              "    }\n",
              "\n",
              "    .colab-df-buttons div {\n",
              "      margin-bottom: 4px;\n",
              "    }\n",
              "\n",
              "    [theme=dark] .colab-df-convert {\n",
              "      background-color: #3B4455;\n",
              "      fill: #D2E3FC;\n",
              "    }\n",
              "\n",
              "    [theme=dark] .colab-df-convert:hover {\n",
              "      background-color: #434B5C;\n",
              "      box-shadow: 0px 1px 3px 1px rgba(0, 0, 0, 0.15);\n",
              "      filter: drop-shadow(0px 1px 2px rgba(0, 0, 0, 0.3));\n",
              "      fill: #FFFFFF;\n",
              "    }\n",
              "  </style>\n",
              "\n",
              "    <script>\n",
              "      const buttonEl =\n",
              "        document.querySelector('#df-b533f3f3-a6ec-4b3f-9ef1-89a29b750640 button.colab-df-convert');\n",
              "      buttonEl.style.display =\n",
              "        google.colab.kernel.accessAllowed ? 'block' : 'none';\n",
              "\n",
              "      async function convertToInteractive(key) {\n",
              "        const element = document.querySelector('#df-b533f3f3-a6ec-4b3f-9ef1-89a29b750640');\n",
              "        const dataTable =\n",
              "          await google.colab.kernel.invokeFunction('convertToInteractive',\n",
              "                                                    [key], {});\n",
              "        if (!dataTable) return;\n",
              "\n",
              "        const docLinkHtml = 'Like what you see? Visit the ' +\n",
              "          '<a target=\"_blank\" href=https://colab.research.google.com/notebooks/data_table.ipynb>data table notebook</a>'\n",
              "          + ' to learn more about interactive tables.';\n",
              "        element.innerHTML = '';\n",
              "        dataTable['output_type'] = 'display_data';\n",
              "        await google.colab.output.renderOutput(dataTable, element);\n",
              "        const docLink = document.createElement('div');\n",
              "        docLink.innerHTML = docLinkHtml;\n",
              "        element.appendChild(docLink);\n",
              "      }\n",
              "    </script>\n",
              "  </div>\n",
              "\n",
              "\n",
              "<div id=\"df-f0dde98f-e7ad-411a-bcfc-7887a80a0789\">\n",
              "  <button class=\"colab-df-quickchart\" onclick=\"quickchart('df-f0dde98f-e7ad-411a-bcfc-7887a80a0789')\"\n",
              "            title=\"Suggest charts\"\n",
              "            style=\"display:none;\">\n",
              "\n",
              "<svg xmlns=\"http://www.w3.org/2000/svg\" height=\"24px\"viewBox=\"0 0 24 24\"\n",
              "     width=\"24px\">\n",
              "    <g>\n",
              "        <path d=\"M19 3H5c-1.1 0-2 .9-2 2v14c0 1.1.9 2 2 2h14c1.1 0 2-.9 2-2V5c0-1.1-.9-2-2-2zM9 17H7v-7h2v7zm4 0h-2V7h2v10zm4 0h-2v-4h2v4z\"/>\n",
              "    </g>\n",
              "</svg>\n",
              "  </button>\n",
              "\n",
              "<style>\n",
              "  .colab-df-quickchart {\n",
              "      --bg-color: #E8F0FE;\n",
              "      --fill-color: #1967D2;\n",
              "      --hover-bg-color: #E2EBFA;\n",
              "      --hover-fill-color: #174EA6;\n",
              "      --disabled-fill-color: #AAA;\n",
              "      --disabled-bg-color: #DDD;\n",
              "  }\n",
              "\n",
              "  [theme=dark] .colab-df-quickchart {\n",
              "      --bg-color: #3B4455;\n",
              "      --fill-color: #D2E3FC;\n",
              "      --hover-bg-color: #434B5C;\n",
              "      --hover-fill-color: #FFFFFF;\n",
              "      --disabled-bg-color: #3B4455;\n",
              "      --disabled-fill-color: #666;\n",
              "  }\n",
              "\n",
              "  .colab-df-quickchart {\n",
              "    background-color: var(--bg-color);\n",
              "    border: none;\n",
              "    border-radius: 50%;\n",
              "    cursor: pointer;\n",
              "    display: none;\n",
              "    fill: var(--fill-color);\n",
              "    height: 32px;\n",
              "    padding: 0;\n",
              "    width: 32px;\n",
              "  }\n",
              "\n",
              "  .colab-df-quickchart:hover {\n",
              "    background-color: var(--hover-bg-color);\n",
              "    box-shadow: 0 1px 2px rgba(60, 64, 67, 0.3), 0 1px 3px 1px rgba(60, 64, 67, 0.15);\n",
              "    fill: var(--button-hover-fill-color);\n",
              "  }\n",
              "\n",
              "  .colab-df-quickchart-complete:disabled,\n",
              "  .colab-df-quickchart-complete:disabled:hover {\n",
              "    background-color: var(--disabled-bg-color);\n",
              "    fill: var(--disabled-fill-color);\n",
              "    box-shadow: none;\n",
              "  }\n",
              "\n",
              "  .colab-df-spinner {\n",
              "    border: 2px solid var(--fill-color);\n",
              "    border-color: transparent;\n",
              "    border-bottom-color: var(--fill-color);\n",
              "    animation:\n",
              "      spin 1s steps(1) infinite;\n",
              "  }\n",
              "\n",
              "  @keyframes spin {\n",
              "    0% {\n",
              "      border-color: transparent;\n",
              "      border-bottom-color: var(--fill-color);\n",
              "      border-left-color: var(--fill-color);\n",
              "    }\n",
              "    20% {\n",
              "      border-color: transparent;\n",
              "      border-left-color: var(--fill-color);\n",
              "      border-top-color: var(--fill-color);\n",
              "    }\n",
              "    30% {\n",
              "      border-color: transparent;\n",
              "      border-left-color: var(--fill-color);\n",
              "      border-top-color: var(--fill-color);\n",
              "      border-right-color: var(--fill-color);\n",
              "    }\n",
              "    40% {\n",
              "      border-color: transparent;\n",
              "      border-right-color: var(--fill-color);\n",
              "      border-top-color: var(--fill-color);\n",
              "    }\n",
              "    60% {\n",
              "      border-color: transparent;\n",
              "      border-right-color: var(--fill-color);\n",
              "    }\n",
              "    80% {\n",
              "      border-color: transparent;\n",
              "      border-right-color: var(--fill-color);\n",
              "      border-bottom-color: var(--fill-color);\n",
              "    }\n",
              "    90% {\n",
              "      border-color: transparent;\n",
              "      border-bottom-color: var(--fill-color);\n",
              "    }\n",
              "  }\n",
              "</style>\n",
              "\n",
              "  <script>\n",
              "    async function quickchart(key) {\n",
              "      const quickchartButtonEl =\n",
              "        document.querySelector('#' + key + ' button');\n",
              "      quickchartButtonEl.disabled = true;  // To prevent multiple clicks.\n",
              "      quickchartButtonEl.classList.add('colab-df-spinner');\n",
              "      try {\n",
              "        const charts = await google.colab.kernel.invokeFunction(\n",
              "            'suggestCharts', [key], {});\n",
              "      } catch (error) {\n",
              "        console.error('Error during call to suggestCharts:', error);\n",
              "      }\n",
              "      quickchartButtonEl.classList.remove('colab-df-spinner');\n",
              "      quickchartButtonEl.classList.add('colab-df-quickchart-complete');\n",
              "    }\n",
              "    (() => {\n",
              "      let quickchartButtonEl =\n",
              "        document.querySelector('#df-f0dde98f-e7ad-411a-bcfc-7887a80a0789 button');\n",
              "      quickchartButtonEl.style.display =\n",
              "        google.colab.kernel.accessAllowed ? 'block' : 'none';\n",
              "    })();\n",
              "  </script>\n",
              "</div>\n",
              "\n",
              "  <div id=\"id_6a8c6085-617c-47aa-93dd-2205f4773198\">\n",
              "    <style>\n",
              "      .colab-df-generate {\n",
              "        background-color: #E8F0FE;\n",
              "        border: none;\n",
              "        border-radius: 50%;\n",
              "        cursor: pointer;\n",
              "        display: none;\n",
              "        fill: #1967D2;\n",
              "        height: 32px;\n",
              "        padding: 0 0 0 0;\n",
              "        width: 32px;\n",
              "      }\n",
              "\n",
              "      .colab-df-generate:hover {\n",
              "        background-color: #E2EBFA;\n",
              "        box-shadow: 0px 1px 2px rgba(60, 64, 67, 0.3), 0px 1px 3px 1px rgba(60, 64, 67, 0.15);\n",
              "        fill: #174EA6;\n",
              "      }\n",
              "\n",
              "      [theme=dark] .colab-df-generate {\n",
              "        background-color: #3B4455;\n",
              "        fill: #D2E3FC;\n",
              "      }\n",
              "\n",
              "      [theme=dark] .colab-df-generate:hover {\n",
              "        background-color: #434B5C;\n",
              "        box-shadow: 0px 1px 3px 1px rgba(0, 0, 0, 0.15);\n",
              "        filter: drop-shadow(0px 1px 2px rgba(0, 0, 0, 0.3));\n",
              "        fill: #FFFFFF;\n",
              "      }\n",
              "    </style>\n",
              "    <button class=\"colab-df-generate\" onclick=\"generateWithVariable('dataset')\"\n",
              "            title=\"Generate code using this dataframe.\"\n",
              "            style=\"display:none;\">\n",
              "\n",
              "  <svg xmlns=\"http://www.w3.org/2000/svg\" height=\"24px\"viewBox=\"0 0 24 24\"\n",
              "       width=\"24px\">\n",
              "    <path d=\"M7,19H8.4L18.45,9,17,7.55,7,17.6ZM5,21V16.75L18.45,3.32a2,2,0,0,1,2.83,0l1.4,1.43a1.91,1.91,0,0,1,.58,1.4,1.91,1.91,0,0,1-.58,1.4L9.25,21ZM18.45,9,17,7.55Zm-12,3A5.31,5.31,0,0,0,4.9,8.1,5.31,5.31,0,0,0,1,6.5,5.31,5.31,0,0,0,4.9,4.9,5.31,5.31,0,0,0,6.5,1,5.31,5.31,0,0,0,8.1,4.9,5.31,5.31,0,0,0,12,6.5,5.46,5.46,0,0,0,6.5,12Z\"/>\n",
              "  </svg>\n",
              "    </button>\n",
              "    <script>\n",
              "      (() => {\n",
              "      const buttonEl =\n",
              "        document.querySelector('#id_6a8c6085-617c-47aa-93dd-2205f4773198 button.colab-df-generate');\n",
              "      buttonEl.style.display =\n",
              "        google.colab.kernel.accessAllowed ? 'block' : 'none';\n",
              "\n",
              "      buttonEl.onclick = () => {\n",
              "        google.colab.notebook.generateWithVariable('dataset');\n",
              "      }\n",
              "      })();\n",
              "    </script>\n",
              "  </div>\n",
              "\n",
              "    </div>\n",
              "  </div>\n"
            ],
            "application/vnd.google.colaboratory.intrinsic+json": {
              "type": "dataframe",
              "variable_name": "dataset",
              "summary": "{\n  \"name\": \"dataset\",\n  \"rows\": 10000,\n  \"fields\": [\n    {\n      \"column\": \"reviewId\",\n      \"properties\": {\n        \"dtype\": \"string\",\n        \"num_unique_values\": 9674,\n        \"samples\": [\n          \"a1b5b280-0fb5-4e85-9bc4-0562479f814b\",\n          \"f2033346-5273-452d-b39f-4e896c36f8cf\",\n          \"fc360dc6-db2e-4086-9071-ab0af74f4be6\"\n        ],\n        \"semantic_type\": \"\",\n        \"description\": \"\"\n      }\n    },\n    {\n      \"column\": \"userName\",\n      \"properties\": {\n        \"dtype\": \"string\",\n        \"num_unique_values\": 8774,\n        \"samples\": [\n          \"Brooke Belus\",\n          \"Dilprit Sidhu\",\n          \"Holly Jaye\"\n        ],\n        \"semantic_type\": \"\",\n        \"description\": \"\"\n      }\n    },\n    {\n      \"column\": \"content\",\n      \"properties\": {\n        \"dtype\": \"string\",\n        \"num_unique_values\": 9312,\n        \"samples\": [\n          \"Phone app has not worked for me in some time. I have been a customer since 2010 and have never had issues. I've tried uninstalling app and reinstalling, on my second time doing that and now the app will not reinstall. I've tried clearing storage and cache. Nothing is working, please help. *All other devices are working.\",\n          \"When I am in my call and doesn't show anything\",\n          \"Netflix has changed a lot over the years, and it was at one point my favorite and had great selections, it was convenient and portable, so I could share with my family when I went to college. This is no longer the case, and they have changed very much on some of their selections and ideals when allow people to share accounts. Especially with family who may be going off to do something. If you want something nice just go to Hulu or Prime. The both give discounts on students and allow you to share\"\n        ],\n        \"semantic_type\": \"\",\n        \"description\": \"\"\n      }\n    },\n    {\n      \"column\": \"score\",\n      \"properties\": {\n        \"dtype\": \"number\",\n        \"std\": 1,\n        \"min\": 1,\n        \"max\": 5,\n        \"num_unique_values\": 5,\n        \"samples\": [\n          1,\n          2,\n          4\n        ],\n        \"semantic_type\": \"\",\n        \"description\": \"\"\n      }\n    },\n    {\n      \"column\": \"thumbsUpCount\",\n      \"properties\": {\n        \"dtype\": \"number\",\n        \"std\": 273,\n        \"min\": 0,\n        \"max\": 6990,\n        \"num_unique_values\": 692,\n        \"samples\": [\n          4369,\n          1626,\n          68\n        ],\n        \"semantic_type\": \"\",\n        \"description\": \"\"\n      }\n    },\n    {\n      \"column\": \"reviewCreatedVersion\",\n      \"properties\": {\n        \"dtype\": \"category\",\n        \"num_unique_values\": 331,\n        \"samples\": [\n          \"8.116.0 build 8 50690\",\n          \"7.60.1 build 63 34929\",\n          \"7.46.0 build 13 34724\"\n        ],\n        \"semantic_type\": \"\",\n        \"description\": \"\"\n      }\n    },\n    {\n      \"column\": \"at\",\n      \"properties\": {\n        \"dtype\": \"object\",\n        \"num_unique_values\": 9702,\n        \"samples\": [\n          \"2024-05-25 12:08:05\",\n          \"2021-04-17 07:15:03\",\n          \"2022-11-24 18:39:44\"\n        ],\n        \"semantic_type\": \"\",\n        \"description\": \"\"\n      }\n    },\n    {\n      \"column\": \"appVersion\",\n      \"properties\": {\n        \"dtype\": \"category\",\n        \"num_unique_values\": 331,\n        \"samples\": [\n          \"8.116.0 build 8 50690\",\n          \"7.60.1 build 63 34929\",\n          \"7.46.0 build 13 34724\"\n        ],\n        \"semantic_type\": \"\",\n        \"description\": \"\"\n      }\n    }\n  ]\n}"
            }
          },
          "metadata": {},
          "execution_count": 2
        }
      ],
      "source": [
        "dataset=pd.read_csv(\"/content/drive/MyDrive/NLP Project/netflix_reviews.csv\",nrows=10000)\n",
        "dataset"
      ]
    },
    {
      "cell_type": "markdown",
      "source": [
        "***Removing unwanted Columns***"
      ],
      "metadata": {
        "id": "_LYGqLKcwlBe"
      }
    },
    {
      "cell_type": "code",
      "execution_count": 3,
      "metadata": {
        "id": "2NwOgu1zIXvL"
      },
      "outputs": [],
      "source": [
        "columns=[\"reviewId\",\"userName\",\"thumbsUpCount\",\"reviewCreatedVersion\",\"at\",\"appVersion\"]\n",
        "\n",
        "for i in columns :\n",
        "\n",
        "  dataset.drop([i],axis=1,inplace=True)"
      ]
    },
    {
      "cell_type": "code",
      "execution_count": 4,
      "metadata": {
        "colab": {
          "base_uri": "https://localhost:8080/",
          "height": 423
        },
        "id": "44B-WsrzJQWi",
        "outputId": "1d03d3dd-eb27-40c7-9911-c1e76a5f77b6"
      },
      "outputs": [
        {
          "output_type": "execute_result",
          "data": {
            "text/plain": [
              "                                                content  score\n",
              "0                                                Nice 👍      3\n",
              "1     Netflix has been crashing and crashing! you ne...      1\n",
              "2     I am extremely disappointed that in order to k...      1\n",
              "3                                                   bad      1\n",
              "4     edit: currently cannot open the app, I get an ...      4\n",
              "...                                                 ...    ...\n",
              "9995  I enjoyed Netflix for several years! Remember ...      1\n",
              "9996  The app is fine and it works great. I use it w...      3\n",
              "9997  I've only had positive experiences with Netfli...      5\n",
              "9998  Stable enough app for an android. Should have ...      4\n",
              "9999  I'm annoyed because many of my shows that I've...      1\n",
              "\n",
              "[10000 rows x 2 columns]"
            ],
            "text/html": [
              "\n",
              "  <div id=\"df-adea9961-cd7e-42b3-8a2b-857c1cea05ec\" class=\"colab-df-container\">\n",
              "    <div>\n",
              "<style scoped>\n",
              "    .dataframe tbody tr th:only-of-type {\n",
              "        vertical-align: middle;\n",
              "    }\n",
              "\n",
              "    .dataframe tbody tr th {\n",
              "        vertical-align: top;\n",
              "    }\n",
              "\n",
              "    .dataframe thead th {\n",
              "        text-align: right;\n",
              "    }\n",
              "</style>\n",
              "<table border=\"1\" class=\"dataframe\">\n",
              "  <thead>\n",
              "    <tr style=\"text-align: right;\">\n",
              "      <th></th>\n",
              "      <th>content</th>\n",
              "      <th>score</th>\n",
              "    </tr>\n",
              "  </thead>\n",
              "  <tbody>\n",
              "    <tr>\n",
              "      <th>0</th>\n",
              "      <td>Nice 👍</td>\n",
              "      <td>3</td>\n",
              "    </tr>\n",
              "    <tr>\n",
              "      <th>1</th>\n",
              "      <td>Netflix has been crashing and crashing! you ne...</td>\n",
              "      <td>1</td>\n",
              "    </tr>\n",
              "    <tr>\n",
              "      <th>2</th>\n",
              "      <td>I am extremely disappointed that in order to k...</td>\n",
              "      <td>1</td>\n",
              "    </tr>\n",
              "    <tr>\n",
              "      <th>3</th>\n",
              "      <td>bad</td>\n",
              "      <td>1</td>\n",
              "    </tr>\n",
              "    <tr>\n",
              "      <th>4</th>\n",
              "      <td>edit: currently cannot open the app, I get an ...</td>\n",
              "      <td>4</td>\n",
              "    </tr>\n",
              "    <tr>\n",
              "      <th>...</th>\n",
              "      <td>...</td>\n",
              "      <td>...</td>\n",
              "    </tr>\n",
              "    <tr>\n",
              "      <th>9995</th>\n",
              "      <td>I enjoyed Netflix for several years! Remember ...</td>\n",
              "      <td>1</td>\n",
              "    </tr>\n",
              "    <tr>\n",
              "      <th>9996</th>\n",
              "      <td>The app is fine and it works great. I use it w...</td>\n",
              "      <td>3</td>\n",
              "    </tr>\n",
              "    <tr>\n",
              "      <th>9997</th>\n",
              "      <td>I've only had positive experiences with Netfli...</td>\n",
              "      <td>5</td>\n",
              "    </tr>\n",
              "    <tr>\n",
              "      <th>9998</th>\n",
              "      <td>Stable enough app for an android. Should have ...</td>\n",
              "      <td>4</td>\n",
              "    </tr>\n",
              "    <tr>\n",
              "      <th>9999</th>\n",
              "      <td>I'm annoyed because many of my shows that I've...</td>\n",
              "      <td>1</td>\n",
              "    </tr>\n",
              "  </tbody>\n",
              "</table>\n",
              "<p>10000 rows × 2 columns</p>\n",
              "</div>\n",
              "    <div class=\"colab-df-buttons\">\n",
              "\n",
              "  <div class=\"colab-df-container\">\n",
              "    <button class=\"colab-df-convert\" onclick=\"convertToInteractive('df-adea9961-cd7e-42b3-8a2b-857c1cea05ec')\"\n",
              "            title=\"Convert this dataframe to an interactive table.\"\n",
              "            style=\"display:none;\">\n",
              "\n",
              "  <svg xmlns=\"http://www.w3.org/2000/svg\" height=\"24px\" viewBox=\"0 -960 960 960\">\n",
              "    <path d=\"M120-120v-720h720v720H120Zm60-500h600v-160H180v160Zm220 220h160v-160H400v160Zm0 220h160v-160H400v160ZM180-400h160v-160H180v160Zm440 0h160v-160H620v160ZM180-180h160v-160H180v160Zm440 0h160v-160H620v160Z\"/>\n",
              "  </svg>\n",
              "    </button>\n",
              "\n",
              "  <style>\n",
              "    .colab-df-container {\n",
              "      display:flex;\n",
              "      gap: 12px;\n",
              "    }\n",
              "\n",
              "    .colab-df-convert {\n",
              "      background-color: #E8F0FE;\n",
              "      border: none;\n",
              "      border-radius: 50%;\n",
              "      cursor: pointer;\n",
              "      display: none;\n",
              "      fill: #1967D2;\n",
              "      height: 32px;\n",
              "      padding: 0 0 0 0;\n",
              "      width: 32px;\n",
              "    }\n",
              "\n",
              "    .colab-df-convert:hover {\n",
              "      background-color: #E2EBFA;\n",
              "      box-shadow: 0px 1px 2px rgba(60, 64, 67, 0.3), 0px 1px 3px 1px rgba(60, 64, 67, 0.15);\n",
              "      fill: #174EA6;\n",
              "    }\n",
              "\n",
              "    .colab-df-buttons div {\n",
              "      margin-bottom: 4px;\n",
              "    }\n",
              "\n",
              "    [theme=dark] .colab-df-convert {\n",
              "      background-color: #3B4455;\n",
              "      fill: #D2E3FC;\n",
              "    }\n",
              "\n",
              "    [theme=dark] .colab-df-convert:hover {\n",
              "      background-color: #434B5C;\n",
              "      box-shadow: 0px 1px 3px 1px rgba(0, 0, 0, 0.15);\n",
              "      filter: drop-shadow(0px 1px 2px rgba(0, 0, 0, 0.3));\n",
              "      fill: #FFFFFF;\n",
              "    }\n",
              "  </style>\n",
              "\n",
              "    <script>\n",
              "      const buttonEl =\n",
              "        document.querySelector('#df-adea9961-cd7e-42b3-8a2b-857c1cea05ec button.colab-df-convert');\n",
              "      buttonEl.style.display =\n",
              "        google.colab.kernel.accessAllowed ? 'block' : 'none';\n",
              "\n",
              "      async function convertToInteractive(key) {\n",
              "        const element = document.querySelector('#df-adea9961-cd7e-42b3-8a2b-857c1cea05ec');\n",
              "        const dataTable =\n",
              "          await google.colab.kernel.invokeFunction('convertToInteractive',\n",
              "                                                    [key], {});\n",
              "        if (!dataTable) return;\n",
              "\n",
              "        const docLinkHtml = 'Like what you see? Visit the ' +\n",
              "          '<a target=\"_blank\" href=https://colab.research.google.com/notebooks/data_table.ipynb>data table notebook</a>'\n",
              "          + ' to learn more about interactive tables.';\n",
              "        element.innerHTML = '';\n",
              "        dataTable['output_type'] = 'display_data';\n",
              "        await google.colab.output.renderOutput(dataTable, element);\n",
              "        const docLink = document.createElement('div');\n",
              "        docLink.innerHTML = docLinkHtml;\n",
              "        element.appendChild(docLink);\n",
              "      }\n",
              "    </script>\n",
              "  </div>\n",
              "\n",
              "\n",
              "<div id=\"df-c3b446c2-b013-4a6b-8e2e-33eabefb3b7d\">\n",
              "  <button class=\"colab-df-quickchart\" onclick=\"quickchart('df-c3b446c2-b013-4a6b-8e2e-33eabefb3b7d')\"\n",
              "            title=\"Suggest charts\"\n",
              "            style=\"display:none;\">\n",
              "\n",
              "<svg xmlns=\"http://www.w3.org/2000/svg\" height=\"24px\"viewBox=\"0 0 24 24\"\n",
              "     width=\"24px\">\n",
              "    <g>\n",
              "        <path d=\"M19 3H5c-1.1 0-2 .9-2 2v14c0 1.1.9 2 2 2h14c1.1 0 2-.9 2-2V5c0-1.1-.9-2-2-2zM9 17H7v-7h2v7zm4 0h-2V7h2v10zm4 0h-2v-4h2v4z\"/>\n",
              "    </g>\n",
              "</svg>\n",
              "  </button>\n",
              "\n",
              "<style>\n",
              "  .colab-df-quickchart {\n",
              "      --bg-color: #E8F0FE;\n",
              "      --fill-color: #1967D2;\n",
              "      --hover-bg-color: #E2EBFA;\n",
              "      --hover-fill-color: #174EA6;\n",
              "      --disabled-fill-color: #AAA;\n",
              "      --disabled-bg-color: #DDD;\n",
              "  }\n",
              "\n",
              "  [theme=dark] .colab-df-quickchart {\n",
              "      --bg-color: #3B4455;\n",
              "      --fill-color: #D2E3FC;\n",
              "      --hover-bg-color: #434B5C;\n",
              "      --hover-fill-color: #FFFFFF;\n",
              "      --disabled-bg-color: #3B4455;\n",
              "      --disabled-fill-color: #666;\n",
              "  }\n",
              "\n",
              "  .colab-df-quickchart {\n",
              "    background-color: var(--bg-color);\n",
              "    border: none;\n",
              "    border-radius: 50%;\n",
              "    cursor: pointer;\n",
              "    display: none;\n",
              "    fill: var(--fill-color);\n",
              "    height: 32px;\n",
              "    padding: 0;\n",
              "    width: 32px;\n",
              "  }\n",
              "\n",
              "  .colab-df-quickchart:hover {\n",
              "    background-color: var(--hover-bg-color);\n",
              "    box-shadow: 0 1px 2px rgba(60, 64, 67, 0.3), 0 1px 3px 1px rgba(60, 64, 67, 0.15);\n",
              "    fill: var(--button-hover-fill-color);\n",
              "  }\n",
              "\n",
              "  .colab-df-quickchart-complete:disabled,\n",
              "  .colab-df-quickchart-complete:disabled:hover {\n",
              "    background-color: var(--disabled-bg-color);\n",
              "    fill: var(--disabled-fill-color);\n",
              "    box-shadow: none;\n",
              "  }\n",
              "\n",
              "  .colab-df-spinner {\n",
              "    border: 2px solid var(--fill-color);\n",
              "    border-color: transparent;\n",
              "    border-bottom-color: var(--fill-color);\n",
              "    animation:\n",
              "      spin 1s steps(1) infinite;\n",
              "  }\n",
              "\n",
              "  @keyframes spin {\n",
              "    0% {\n",
              "      border-color: transparent;\n",
              "      border-bottom-color: var(--fill-color);\n",
              "      border-left-color: var(--fill-color);\n",
              "    }\n",
              "    20% {\n",
              "      border-color: transparent;\n",
              "      border-left-color: var(--fill-color);\n",
              "      border-top-color: var(--fill-color);\n",
              "    }\n",
              "    30% {\n",
              "      border-color: transparent;\n",
              "      border-left-color: var(--fill-color);\n",
              "      border-top-color: var(--fill-color);\n",
              "      border-right-color: var(--fill-color);\n",
              "    }\n",
              "    40% {\n",
              "      border-color: transparent;\n",
              "      border-right-color: var(--fill-color);\n",
              "      border-top-color: var(--fill-color);\n",
              "    }\n",
              "    60% {\n",
              "      border-color: transparent;\n",
              "      border-right-color: var(--fill-color);\n",
              "    }\n",
              "    80% {\n",
              "      border-color: transparent;\n",
              "      border-right-color: var(--fill-color);\n",
              "      border-bottom-color: var(--fill-color);\n",
              "    }\n",
              "    90% {\n",
              "      border-color: transparent;\n",
              "      border-bottom-color: var(--fill-color);\n",
              "    }\n",
              "  }\n",
              "</style>\n",
              "\n",
              "  <script>\n",
              "    async function quickchart(key) {\n",
              "      const quickchartButtonEl =\n",
              "        document.querySelector('#' + key + ' button');\n",
              "      quickchartButtonEl.disabled = true;  // To prevent multiple clicks.\n",
              "      quickchartButtonEl.classList.add('colab-df-spinner');\n",
              "      try {\n",
              "        const charts = await google.colab.kernel.invokeFunction(\n",
              "            'suggestCharts', [key], {});\n",
              "      } catch (error) {\n",
              "        console.error('Error during call to suggestCharts:', error);\n",
              "      }\n",
              "      quickchartButtonEl.classList.remove('colab-df-spinner');\n",
              "      quickchartButtonEl.classList.add('colab-df-quickchart-complete');\n",
              "    }\n",
              "    (() => {\n",
              "      let quickchartButtonEl =\n",
              "        document.querySelector('#df-c3b446c2-b013-4a6b-8e2e-33eabefb3b7d button');\n",
              "      quickchartButtonEl.style.display =\n",
              "        google.colab.kernel.accessAllowed ? 'block' : 'none';\n",
              "    })();\n",
              "  </script>\n",
              "</div>\n",
              "\n",
              "  <div id=\"id_33a8c362-5baf-4b95-9e93-c5172a6a191b\">\n",
              "    <style>\n",
              "      .colab-df-generate {\n",
              "        background-color: #E8F0FE;\n",
              "        border: none;\n",
              "        border-radius: 50%;\n",
              "        cursor: pointer;\n",
              "        display: none;\n",
              "        fill: #1967D2;\n",
              "        height: 32px;\n",
              "        padding: 0 0 0 0;\n",
              "        width: 32px;\n",
              "      }\n",
              "\n",
              "      .colab-df-generate:hover {\n",
              "        background-color: #E2EBFA;\n",
              "        box-shadow: 0px 1px 2px rgba(60, 64, 67, 0.3), 0px 1px 3px 1px rgba(60, 64, 67, 0.15);\n",
              "        fill: #174EA6;\n",
              "      }\n",
              "\n",
              "      [theme=dark] .colab-df-generate {\n",
              "        background-color: #3B4455;\n",
              "        fill: #D2E3FC;\n",
              "      }\n",
              "\n",
              "      [theme=dark] .colab-df-generate:hover {\n",
              "        background-color: #434B5C;\n",
              "        box-shadow: 0px 1px 3px 1px rgba(0, 0, 0, 0.15);\n",
              "        filter: drop-shadow(0px 1px 2px rgba(0, 0, 0, 0.3));\n",
              "        fill: #FFFFFF;\n",
              "      }\n",
              "    </style>\n",
              "    <button class=\"colab-df-generate\" onclick=\"generateWithVariable('dataset')\"\n",
              "            title=\"Generate code using this dataframe.\"\n",
              "            style=\"display:none;\">\n",
              "\n",
              "  <svg xmlns=\"http://www.w3.org/2000/svg\" height=\"24px\"viewBox=\"0 0 24 24\"\n",
              "       width=\"24px\">\n",
              "    <path d=\"M7,19H8.4L18.45,9,17,7.55,7,17.6ZM5,21V16.75L18.45,3.32a2,2,0,0,1,2.83,0l1.4,1.43a1.91,1.91,0,0,1,.58,1.4,1.91,1.91,0,0,1-.58,1.4L9.25,21ZM18.45,9,17,7.55Zm-12,3A5.31,5.31,0,0,0,4.9,8.1,5.31,5.31,0,0,0,1,6.5,5.31,5.31,0,0,0,4.9,4.9,5.31,5.31,0,0,0,6.5,1,5.31,5.31,0,0,0,8.1,4.9,5.31,5.31,0,0,0,12,6.5,5.46,5.46,0,0,0,6.5,12Z\"/>\n",
              "  </svg>\n",
              "    </button>\n",
              "    <script>\n",
              "      (() => {\n",
              "      const buttonEl =\n",
              "        document.querySelector('#id_33a8c362-5baf-4b95-9e93-c5172a6a191b button.colab-df-generate');\n",
              "      buttonEl.style.display =\n",
              "        google.colab.kernel.accessAllowed ? 'block' : 'none';\n",
              "\n",
              "      buttonEl.onclick = () => {\n",
              "        google.colab.notebook.generateWithVariable('dataset');\n",
              "      }\n",
              "      })();\n",
              "    </script>\n",
              "  </div>\n",
              "\n",
              "    </div>\n",
              "  </div>\n"
            ],
            "application/vnd.google.colaboratory.intrinsic+json": {
              "type": "dataframe",
              "variable_name": "dataset",
              "summary": "{\n  \"name\": \"dataset\",\n  \"rows\": 10000,\n  \"fields\": [\n    {\n      \"column\": \"content\",\n      \"properties\": {\n        \"dtype\": \"string\",\n        \"num_unique_values\": 9312,\n        \"samples\": [\n          \"Phone app has not worked for me in some time. I have been a customer since 2010 and have never had issues. I've tried uninstalling app and reinstalling, on my second time doing that and now the app will not reinstall. I've tried clearing storage and cache. Nothing is working, please help. *All other devices are working.\",\n          \"When I am in my call and doesn't show anything\",\n          \"Netflix has changed a lot over the years, and it was at one point my favorite and had great selections, it was convenient and portable, so I could share with my family when I went to college. This is no longer the case, and they have changed very much on some of their selections and ideals when allow people to share accounts. Especially with family who may be going off to do something. If you want something nice just go to Hulu or Prime. The both give discounts on students and allow you to share\"\n        ],\n        \"semantic_type\": \"\",\n        \"description\": \"\"\n      }\n    },\n    {\n      \"column\": \"score\",\n      \"properties\": {\n        \"dtype\": \"number\",\n        \"std\": 1,\n        \"min\": 1,\n        \"max\": 5,\n        \"num_unique_values\": 5,\n        \"samples\": [\n          1,\n          2,\n          4\n        ],\n        \"semantic_type\": \"\",\n        \"description\": \"\"\n      }\n    }\n  ]\n}"
            }
          },
          "metadata": {},
          "execution_count": 4
        }
      ],
      "source": [
        "dataset"
      ]
    },
    {
      "cell_type": "markdown",
      "source": [
        "***Checking & Handling the Missing Values***"
      ],
      "metadata": {
        "id": "V3jCQXcawsHM"
      }
    },
    {
      "cell_type": "code",
      "source": [
        "dataset.isna().sum()"
      ],
      "metadata": {
        "colab": {
          "base_uri": "https://localhost:8080/"
        },
        "id": "LXaASyDGhput",
        "outputId": "2e899104-24d0-4bc7-d1b3-03bcbbf122ec"
      },
      "execution_count": 5,
      "outputs": [
        {
          "output_type": "execute_result",
          "data": {
            "text/plain": [
              "content    2\n",
              "score      0\n",
              "dtype: int64"
            ]
          },
          "metadata": {},
          "execution_count": 5
        }
      ]
    },
    {
      "cell_type": "code",
      "execution_count": 6,
      "metadata": {
        "id": "AM6a3USGprKN"
      },
      "outputs": [],
      "source": [
        "mode=dataset[\"content\"].mode()[0]\n",
        "dataset[\"content\"]=dataset[\"content\"].fillna(mode)"
      ]
    },
    {
      "cell_type": "code",
      "execution_count": 7,
      "metadata": {
        "colab": {
          "base_uri": "https://localhost:8080/"
        },
        "id": "B43BFCmbSTPJ",
        "outputId": "07e4d528-148f-4b44-a3b4-53847acb1a01"
      },
      "outputs": [
        {
          "output_type": "execute_result",
          "data": {
            "text/plain": [
              "0                                                  Nice 👍\n",
              "1       Netflix has been crashing and crashing! you ne...\n",
              "2       I am extremely disappointed that in order to k...\n",
              "3                                                     bad\n",
              "4       edit: currently cannot open the app, I get an ...\n",
              "                              ...                        \n",
              "9995    I enjoyed Netflix for several years! Remember ...\n",
              "9996    The app is fine and it works great. I use it w...\n",
              "9997    I've only had positive experiences with Netfli...\n",
              "9998    Stable enough app for an android. Should have ...\n",
              "9999    I'm annoyed because many of my shows that I've...\n",
              "Name: content, Length: 10000, dtype: object"
            ]
          },
          "metadata": {},
          "execution_count": 7
        }
      ],
      "source": [
        "input=dataset[\"content\"]\n",
        "input"
      ]
    },
    {
      "cell_type": "markdown",
      "source": [
        "# ***Natural Language Processing***"
      ],
      "metadata": {
        "id": "sVBlqIsDxLEx"
      }
    },
    {
      "cell_type": "markdown",
      "source": [
        "***Removing Special Characters***"
      ],
      "metadata": {
        "id": "8qTZJeU_xRvq"
      }
    },
    {
      "cell_type": "code",
      "execution_count": 8,
      "metadata": {
        "colab": {
          "base_uri": "https://localhost:8080/"
        },
        "id": "PSrsYNzJSvOe",
        "outputId": "1d06954c-a16b-411b-f377-7ad15dacd27f"
      },
      "outputs": [
        {
          "output_type": "execute_result",
          "data": {
            "text/plain": [
              "0                                                  Nice 👍\n",
              "1       Netflix has been crashing and crashing! you ne...\n",
              "2       I am extremely disappointed that in order to k...\n",
              "3                                                     bad\n",
              "4       edit: currently cannot open the app, I get an ...\n",
              "                              ...                        \n",
              "9995    I enjoyed Netflix for several years! Remember ...\n",
              "9996    The app is fine and it works great. I use it w...\n",
              "9997    I've only had positive experiences with Netfli...\n",
              "9998    Stable enough app for an android. Should have ...\n",
              "9999    I'm annoyed because many of my shows that I've...\n",
              "Name: content, Length: 10000, dtype: object"
            ]
          },
          "metadata": {},
          "execution_count": 8
        }
      ],
      "source": [
        "input2=input.str.replace(\"[^a-zA-Z0-9]\",\"\")\n",
        "input2"
      ]
    },
    {
      "cell_type": "code",
      "execution_count": 9,
      "metadata": {
        "id": "V_0h_cvCTK57"
      },
      "outputs": [],
      "source": [
        "tokenizer=TweetTokenizer()"
      ]
    },
    {
      "cell_type": "code",
      "execution_count": 10,
      "metadata": {
        "colab": {
          "base_uri": "https://localhost:8080/"
        },
        "id": "U-Jv_4WTTVUT",
        "outputId": "46811f75-81c0-455a-e717-6173d92b4ee3"
      },
      "outputs": [
        {
          "output_type": "stream",
          "name": "stderr",
          "text": [
            "[nltk_data] Downloading package stopwords to /root/nltk_data...\n",
            "[nltk_data]   Unzipping corpora/stopwords.zip.\n"
          ]
        }
      ],
      "source": [
        "nltk.download('stopwords')\n",
        "words=stopwords.words(\"english\")"
      ]
    },
    {
      "cell_type": "code",
      "execution_count": 11,
      "metadata": {
        "id": "_abG-6Y2TjL-"
      },
      "outputs": [],
      "source": [
        "stemmer=SnowballStemmer(\"english\")"
      ]
    },
    {
      "cell_type": "markdown",
      "source": [
        "***Tokenization/Removing StopWords/Converting to Lower/Finding Root Words***"
      ],
      "metadata": {
        "id": "iEpqjtuGxefi"
      }
    },
    {
      "cell_type": "code",
      "execution_count": 12,
      "metadata": {
        "colab": {
          "base_uri": "https://localhost:8080/"
        },
        "id": "2u4IBDJGoJjJ",
        "outputId": "0d9ceda9-6044-40fc-f2e9-d6b205445a50"
      },
      "outputs": [
        {
          "output_type": "execute_result",
          "data": {
            "text/plain": [
              "0                                                  nice 👍\n",
              "1       netflix crash crash ! need fix ... lower price...\n",
              "2       i extrem disappoint order keep add free plan i...\n",
              "3                                                     bad\n",
              "4       edit : current cannot open app , i get error c...\n",
              "                              ...                        \n",
              "9995    i enjoy netflix sever year ! rememb start $ 6....\n",
              "9996    the app fine work great . i use i'm work kitch...\n",
              "9997    i'v posit experi netflix . there suppos way as...\n",
              "9998    stabl enough app android . should qualiti opti...\n",
              "9999    i'm annoy mani show i'v current watch random d...\n",
              "Name: content, Length: 10000, dtype: object"
            ]
          },
          "metadata": {},
          "execution_count": 12
        }
      ],
      "source": [
        "input3=input.apply(lambda i:[stemmer.stem(j.lower()) for j in tokenizer.tokenize(i) if j not in words]).apply(lambda j:\" \".join(j))\n",
        "input3"
      ]
    },
    {
      "cell_type": "markdown",
      "source": [
        "***Vectorization***"
      ],
      "metadata": {
        "id": "QDfkDIyTx1UC"
      }
    },
    {
      "cell_type": "code",
      "execution_count": 13,
      "metadata": {
        "id": "LgZO0TE2rNoG"
      },
      "outputs": [],
      "source": [
        "vectorizer=TfidfVectorizer()\n",
        "vectorizer.fit(input3)\n",
        "input=vectorizer.transform(input3)"
      ]
    },
    {
      "cell_type": "markdown",
      "source": [
        "***Converted Input By NLP***"
      ],
      "metadata": {
        "id": "E3KKAibsx5Lq"
      }
    },
    {
      "cell_type": "code",
      "execution_count": 14,
      "metadata": {
        "colab": {
          "base_uri": "https://localhost:8080/"
        },
        "id": "-Zb_IfyosAlJ",
        "outputId": "be80de6e-f40c-4300-aa5b-e70505513993"
      },
      "outputs": [
        {
          "output_type": "stream",
          "name": "stdout",
          "text": [
            "  (0, 5228)\t1.0\n",
            "  (1, 6000)\t0.2456697590451325\n",
            "  (1, 5178)\t0.11216403433163737\n",
            "  (1, 5143)\t0.22372318682227033\n",
            "  (1, 4651)\t0.372782631198005\n",
            "  (1, 3925)\t0.5719523284003137\n",
            "  (1, 3097)\t0.19722958698539583\n",
            "  (1, 1947)\t0.6099325114333286\n",
            "  (2, 8455)\t0.21489506988859544\n",
            "  (2, 5888)\t0.23464695942953467\n",
            "  (2, 5819)\t0.21079188969057197\n",
            "  (2, 5716)\t0.30130135957702087\n",
            "  (2, 5674)\t0.15987510474259078\n",
            "  (2, 5485)\t0.2804032017718207\n",
            "  (2, 5134)\t0.3141692799675831\n",
            "  (2, 4987)\t0.18528722448277943\n",
            "  (2, 4891)\t0.264582004244376\n",
            "  (2, 4313)\t0.16379817943779412\n",
            "  (2, 3365)\t0.14074745636691602\n",
            "  (2, 3221)\t0.22503276164677272\n",
            "  (2, 2918)\t0.2697600585687918\n",
            "  (2, 2470)\t0.3189256553676048\n",
            "  (2, 2317)\t0.22841966493928836\n",
            "  (2, 1450)\t0.29713521928708747\n",
            "  (2, 518)\t0.20998445429566623\n",
            "  :\t:\n",
            "  (9999, 6465)\t0.1553917327404678\n",
            "  (9999, 6235)\t0.2562358719617542\n",
            "  (9999, 6181)\t0.17409901241060932\n",
            "  (9999, 5841)\t0.25209582625785953\n",
            "  (9999, 5768)\t0.09371923984947318\n",
            "  (9999, 5178)\t0.05786673710119621\n",
            "  (9999, 5045)\t0.12688018466978143\n",
            "  (9999, 4737)\t0.1215018107001258\n",
            "  (9999, 4614)\t0.14392487532585316\n",
            "  (9999, 4566)\t0.14003732102440747\n",
            "  (9999, 4488)\t0.1635775808146874\n",
            "  (9999, 4437)\t0.194061933188142\n",
            "  (9999, 3883)\t0.18109581193519805\n",
            "  (9999, 3722)\t0.194061933188142\n",
            "  (9999, 3604)\t0.1352132820260439\n",
            "  (9999, 3365)\t0.08957919414557856\n",
            "  (9999, 3097)\t0.20350610116102452\n",
            "  (9999, 2705)\t0.14782914584313567\n",
            "  (9999, 2314)\t0.17671144433951325\n",
            "  (9999, 2023)\t0.5036320813517889\n",
            "  (9999, 1530)\t0.26101520397670447\n",
            "  (9999, 1470)\t0.09254652410433505\n",
            "  (9999, 782)\t0.06100664135028233\n",
            "  (9999, 735)\t0.12285131154097367\n",
            "  (9999, 472)\t0.22527719691115566\n"
          ]
        }
      ],
      "source": [
        "print (input)"
      ]
    },
    {
      "cell_type": "code",
      "execution_count": 15,
      "metadata": {
        "id": "H1iECRsQsEsI"
      },
      "outputs": [],
      "source": [
        "input=input.toarray()"
      ]
    },
    {
      "cell_type": "markdown",
      "source": [
        "***Converting string output into numeric values by Label Encoder***"
      ],
      "metadata": {
        "id": "daRtWhNFx_Pc"
      }
    },
    {
      "cell_type": "code",
      "source": [
        "encoder=LabelEncoder()\n",
        "encoder.fit(dataset[\"score\"])\n",
        "dataset[\"score\"]=encoder.transform(dataset[\"score\"])"
      ],
      "metadata": {
        "id": "PzBX8wufklnb"
      },
      "execution_count": 16,
      "outputs": []
    },
    {
      "cell_type": "code",
      "source": [
        "dataset"
      ],
      "metadata": {
        "colab": {
          "base_uri": "https://localhost:8080/",
          "height": 423
        },
        "id": "yn-smoBGk-OE",
        "outputId": "7c680e20-4a10-4299-df12-dd47a631d7c4"
      },
      "execution_count": 17,
      "outputs": [
        {
          "output_type": "execute_result",
          "data": {
            "text/plain": [
              "                                                content  score\n",
              "0                                                Nice 👍      2\n",
              "1     Netflix has been crashing and crashing! you ne...      0\n",
              "2     I am extremely disappointed that in order to k...      0\n",
              "3                                                   bad      0\n",
              "4     edit: currently cannot open the app, I get an ...      3\n",
              "...                                                 ...    ...\n",
              "9995  I enjoyed Netflix for several years! Remember ...      0\n",
              "9996  The app is fine and it works great. I use it w...      2\n",
              "9997  I've only had positive experiences with Netfli...      4\n",
              "9998  Stable enough app for an android. Should have ...      3\n",
              "9999  I'm annoyed because many of my shows that I've...      0\n",
              "\n",
              "[10000 rows x 2 columns]"
            ],
            "text/html": [
              "\n",
              "  <div id=\"df-1c82587c-89d7-46a0-a920-60000e821663\" class=\"colab-df-container\">\n",
              "    <div>\n",
              "<style scoped>\n",
              "    .dataframe tbody tr th:only-of-type {\n",
              "        vertical-align: middle;\n",
              "    }\n",
              "\n",
              "    .dataframe tbody tr th {\n",
              "        vertical-align: top;\n",
              "    }\n",
              "\n",
              "    .dataframe thead th {\n",
              "        text-align: right;\n",
              "    }\n",
              "</style>\n",
              "<table border=\"1\" class=\"dataframe\">\n",
              "  <thead>\n",
              "    <tr style=\"text-align: right;\">\n",
              "      <th></th>\n",
              "      <th>content</th>\n",
              "      <th>score</th>\n",
              "    </tr>\n",
              "  </thead>\n",
              "  <tbody>\n",
              "    <tr>\n",
              "      <th>0</th>\n",
              "      <td>Nice 👍</td>\n",
              "      <td>2</td>\n",
              "    </tr>\n",
              "    <tr>\n",
              "      <th>1</th>\n",
              "      <td>Netflix has been crashing and crashing! you ne...</td>\n",
              "      <td>0</td>\n",
              "    </tr>\n",
              "    <tr>\n",
              "      <th>2</th>\n",
              "      <td>I am extremely disappointed that in order to k...</td>\n",
              "      <td>0</td>\n",
              "    </tr>\n",
              "    <tr>\n",
              "      <th>3</th>\n",
              "      <td>bad</td>\n",
              "      <td>0</td>\n",
              "    </tr>\n",
              "    <tr>\n",
              "      <th>4</th>\n",
              "      <td>edit: currently cannot open the app, I get an ...</td>\n",
              "      <td>3</td>\n",
              "    </tr>\n",
              "    <tr>\n",
              "      <th>...</th>\n",
              "      <td>...</td>\n",
              "      <td>...</td>\n",
              "    </tr>\n",
              "    <tr>\n",
              "      <th>9995</th>\n",
              "      <td>I enjoyed Netflix for several years! Remember ...</td>\n",
              "      <td>0</td>\n",
              "    </tr>\n",
              "    <tr>\n",
              "      <th>9996</th>\n",
              "      <td>The app is fine and it works great. I use it w...</td>\n",
              "      <td>2</td>\n",
              "    </tr>\n",
              "    <tr>\n",
              "      <th>9997</th>\n",
              "      <td>I've only had positive experiences with Netfli...</td>\n",
              "      <td>4</td>\n",
              "    </tr>\n",
              "    <tr>\n",
              "      <th>9998</th>\n",
              "      <td>Stable enough app for an android. Should have ...</td>\n",
              "      <td>3</td>\n",
              "    </tr>\n",
              "    <tr>\n",
              "      <th>9999</th>\n",
              "      <td>I'm annoyed because many of my shows that I've...</td>\n",
              "      <td>0</td>\n",
              "    </tr>\n",
              "  </tbody>\n",
              "</table>\n",
              "<p>10000 rows × 2 columns</p>\n",
              "</div>\n",
              "    <div class=\"colab-df-buttons\">\n",
              "\n",
              "  <div class=\"colab-df-container\">\n",
              "    <button class=\"colab-df-convert\" onclick=\"convertToInteractive('df-1c82587c-89d7-46a0-a920-60000e821663')\"\n",
              "            title=\"Convert this dataframe to an interactive table.\"\n",
              "            style=\"display:none;\">\n",
              "\n",
              "  <svg xmlns=\"http://www.w3.org/2000/svg\" height=\"24px\" viewBox=\"0 -960 960 960\">\n",
              "    <path d=\"M120-120v-720h720v720H120Zm60-500h600v-160H180v160Zm220 220h160v-160H400v160Zm0 220h160v-160H400v160ZM180-400h160v-160H180v160Zm440 0h160v-160H620v160ZM180-180h160v-160H180v160Zm440 0h160v-160H620v160Z\"/>\n",
              "  </svg>\n",
              "    </button>\n",
              "\n",
              "  <style>\n",
              "    .colab-df-container {\n",
              "      display:flex;\n",
              "      gap: 12px;\n",
              "    }\n",
              "\n",
              "    .colab-df-convert {\n",
              "      background-color: #E8F0FE;\n",
              "      border: none;\n",
              "      border-radius: 50%;\n",
              "      cursor: pointer;\n",
              "      display: none;\n",
              "      fill: #1967D2;\n",
              "      height: 32px;\n",
              "      padding: 0 0 0 0;\n",
              "      width: 32px;\n",
              "    }\n",
              "\n",
              "    .colab-df-convert:hover {\n",
              "      background-color: #E2EBFA;\n",
              "      box-shadow: 0px 1px 2px rgba(60, 64, 67, 0.3), 0px 1px 3px 1px rgba(60, 64, 67, 0.15);\n",
              "      fill: #174EA6;\n",
              "    }\n",
              "\n",
              "    .colab-df-buttons div {\n",
              "      margin-bottom: 4px;\n",
              "    }\n",
              "\n",
              "    [theme=dark] .colab-df-convert {\n",
              "      background-color: #3B4455;\n",
              "      fill: #D2E3FC;\n",
              "    }\n",
              "\n",
              "    [theme=dark] .colab-df-convert:hover {\n",
              "      background-color: #434B5C;\n",
              "      box-shadow: 0px 1px 3px 1px rgba(0, 0, 0, 0.15);\n",
              "      filter: drop-shadow(0px 1px 2px rgba(0, 0, 0, 0.3));\n",
              "      fill: #FFFFFF;\n",
              "    }\n",
              "  </style>\n",
              "\n",
              "    <script>\n",
              "      const buttonEl =\n",
              "        document.querySelector('#df-1c82587c-89d7-46a0-a920-60000e821663 button.colab-df-convert');\n",
              "      buttonEl.style.display =\n",
              "        google.colab.kernel.accessAllowed ? 'block' : 'none';\n",
              "\n",
              "      async function convertToInteractive(key) {\n",
              "        const element = document.querySelector('#df-1c82587c-89d7-46a0-a920-60000e821663');\n",
              "        const dataTable =\n",
              "          await google.colab.kernel.invokeFunction('convertToInteractive',\n",
              "                                                    [key], {});\n",
              "        if (!dataTable) return;\n",
              "\n",
              "        const docLinkHtml = 'Like what you see? Visit the ' +\n",
              "          '<a target=\"_blank\" href=https://colab.research.google.com/notebooks/data_table.ipynb>data table notebook</a>'\n",
              "          + ' to learn more about interactive tables.';\n",
              "        element.innerHTML = '';\n",
              "        dataTable['output_type'] = 'display_data';\n",
              "        await google.colab.output.renderOutput(dataTable, element);\n",
              "        const docLink = document.createElement('div');\n",
              "        docLink.innerHTML = docLinkHtml;\n",
              "        element.appendChild(docLink);\n",
              "      }\n",
              "    </script>\n",
              "  </div>\n",
              "\n",
              "\n",
              "<div id=\"df-866e601b-9741-4cd8-8b98-a658ddf68238\">\n",
              "  <button class=\"colab-df-quickchart\" onclick=\"quickchart('df-866e601b-9741-4cd8-8b98-a658ddf68238')\"\n",
              "            title=\"Suggest charts\"\n",
              "            style=\"display:none;\">\n",
              "\n",
              "<svg xmlns=\"http://www.w3.org/2000/svg\" height=\"24px\"viewBox=\"0 0 24 24\"\n",
              "     width=\"24px\">\n",
              "    <g>\n",
              "        <path d=\"M19 3H5c-1.1 0-2 .9-2 2v14c0 1.1.9 2 2 2h14c1.1 0 2-.9 2-2V5c0-1.1-.9-2-2-2zM9 17H7v-7h2v7zm4 0h-2V7h2v10zm4 0h-2v-4h2v4z\"/>\n",
              "    </g>\n",
              "</svg>\n",
              "  </button>\n",
              "\n",
              "<style>\n",
              "  .colab-df-quickchart {\n",
              "      --bg-color: #E8F0FE;\n",
              "      --fill-color: #1967D2;\n",
              "      --hover-bg-color: #E2EBFA;\n",
              "      --hover-fill-color: #174EA6;\n",
              "      --disabled-fill-color: #AAA;\n",
              "      --disabled-bg-color: #DDD;\n",
              "  }\n",
              "\n",
              "  [theme=dark] .colab-df-quickchart {\n",
              "      --bg-color: #3B4455;\n",
              "      --fill-color: #D2E3FC;\n",
              "      --hover-bg-color: #434B5C;\n",
              "      --hover-fill-color: #FFFFFF;\n",
              "      --disabled-bg-color: #3B4455;\n",
              "      --disabled-fill-color: #666;\n",
              "  }\n",
              "\n",
              "  .colab-df-quickchart {\n",
              "    background-color: var(--bg-color);\n",
              "    border: none;\n",
              "    border-radius: 50%;\n",
              "    cursor: pointer;\n",
              "    display: none;\n",
              "    fill: var(--fill-color);\n",
              "    height: 32px;\n",
              "    padding: 0;\n",
              "    width: 32px;\n",
              "  }\n",
              "\n",
              "  .colab-df-quickchart:hover {\n",
              "    background-color: var(--hover-bg-color);\n",
              "    box-shadow: 0 1px 2px rgba(60, 64, 67, 0.3), 0 1px 3px 1px rgba(60, 64, 67, 0.15);\n",
              "    fill: var(--button-hover-fill-color);\n",
              "  }\n",
              "\n",
              "  .colab-df-quickchart-complete:disabled,\n",
              "  .colab-df-quickchart-complete:disabled:hover {\n",
              "    background-color: var(--disabled-bg-color);\n",
              "    fill: var(--disabled-fill-color);\n",
              "    box-shadow: none;\n",
              "  }\n",
              "\n",
              "  .colab-df-spinner {\n",
              "    border: 2px solid var(--fill-color);\n",
              "    border-color: transparent;\n",
              "    border-bottom-color: var(--fill-color);\n",
              "    animation:\n",
              "      spin 1s steps(1) infinite;\n",
              "  }\n",
              "\n",
              "  @keyframes spin {\n",
              "    0% {\n",
              "      border-color: transparent;\n",
              "      border-bottom-color: var(--fill-color);\n",
              "      border-left-color: var(--fill-color);\n",
              "    }\n",
              "    20% {\n",
              "      border-color: transparent;\n",
              "      border-left-color: var(--fill-color);\n",
              "      border-top-color: var(--fill-color);\n",
              "    }\n",
              "    30% {\n",
              "      border-color: transparent;\n",
              "      border-left-color: var(--fill-color);\n",
              "      border-top-color: var(--fill-color);\n",
              "      border-right-color: var(--fill-color);\n",
              "    }\n",
              "    40% {\n",
              "      border-color: transparent;\n",
              "      border-right-color: var(--fill-color);\n",
              "      border-top-color: var(--fill-color);\n",
              "    }\n",
              "    60% {\n",
              "      border-color: transparent;\n",
              "      border-right-color: var(--fill-color);\n",
              "    }\n",
              "    80% {\n",
              "      border-color: transparent;\n",
              "      border-right-color: var(--fill-color);\n",
              "      border-bottom-color: var(--fill-color);\n",
              "    }\n",
              "    90% {\n",
              "      border-color: transparent;\n",
              "      border-bottom-color: var(--fill-color);\n",
              "    }\n",
              "  }\n",
              "</style>\n",
              "\n",
              "  <script>\n",
              "    async function quickchart(key) {\n",
              "      const quickchartButtonEl =\n",
              "        document.querySelector('#' + key + ' button');\n",
              "      quickchartButtonEl.disabled = true;  // To prevent multiple clicks.\n",
              "      quickchartButtonEl.classList.add('colab-df-spinner');\n",
              "      try {\n",
              "        const charts = await google.colab.kernel.invokeFunction(\n",
              "            'suggestCharts', [key], {});\n",
              "      } catch (error) {\n",
              "        console.error('Error during call to suggestCharts:', error);\n",
              "      }\n",
              "      quickchartButtonEl.classList.remove('colab-df-spinner');\n",
              "      quickchartButtonEl.classList.add('colab-df-quickchart-complete');\n",
              "    }\n",
              "    (() => {\n",
              "      let quickchartButtonEl =\n",
              "        document.querySelector('#df-866e601b-9741-4cd8-8b98-a658ddf68238 button');\n",
              "      quickchartButtonEl.style.display =\n",
              "        google.colab.kernel.accessAllowed ? 'block' : 'none';\n",
              "    })();\n",
              "  </script>\n",
              "</div>\n",
              "\n",
              "  <div id=\"id_81b892b6-7bca-4cf2-8c1f-20706ec2686a\">\n",
              "    <style>\n",
              "      .colab-df-generate {\n",
              "        background-color: #E8F0FE;\n",
              "        border: none;\n",
              "        border-radius: 50%;\n",
              "        cursor: pointer;\n",
              "        display: none;\n",
              "        fill: #1967D2;\n",
              "        height: 32px;\n",
              "        padding: 0 0 0 0;\n",
              "        width: 32px;\n",
              "      }\n",
              "\n",
              "      .colab-df-generate:hover {\n",
              "        background-color: #E2EBFA;\n",
              "        box-shadow: 0px 1px 2px rgba(60, 64, 67, 0.3), 0px 1px 3px 1px rgba(60, 64, 67, 0.15);\n",
              "        fill: #174EA6;\n",
              "      }\n",
              "\n",
              "      [theme=dark] .colab-df-generate {\n",
              "        background-color: #3B4455;\n",
              "        fill: #D2E3FC;\n",
              "      }\n",
              "\n",
              "      [theme=dark] .colab-df-generate:hover {\n",
              "        background-color: #434B5C;\n",
              "        box-shadow: 0px 1px 3px 1px rgba(0, 0, 0, 0.15);\n",
              "        filter: drop-shadow(0px 1px 2px rgba(0, 0, 0, 0.3));\n",
              "        fill: #FFFFFF;\n",
              "      }\n",
              "    </style>\n",
              "    <button class=\"colab-df-generate\" onclick=\"generateWithVariable('dataset')\"\n",
              "            title=\"Generate code using this dataframe.\"\n",
              "            style=\"display:none;\">\n",
              "\n",
              "  <svg xmlns=\"http://www.w3.org/2000/svg\" height=\"24px\"viewBox=\"0 0 24 24\"\n",
              "       width=\"24px\">\n",
              "    <path d=\"M7,19H8.4L18.45,9,17,7.55,7,17.6ZM5,21V16.75L18.45,3.32a2,2,0,0,1,2.83,0l1.4,1.43a1.91,1.91,0,0,1,.58,1.4,1.91,1.91,0,0,1-.58,1.4L9.25,21ZM18.45,9,17,7.55Zm-12,3A5.31,5.31,0,0,0,4.9,8.1,5.31,5.31,0,0,0,1,6.5,5.31,5.31,0,0,0,4.9,4.9,5.31,5.31,0,0,0,6.5,1,5.31,5.31,0,0,0,8.1,4.9,5.31,5.31,0,0,0,12,6.5,5.46,5.46,0,0,0,6.5,12Z\"/>\n",
              "  </svg>\n",
              "    </button>\n",
              "    <script>\n",
              "      (() => {\n",
              "      const buttonEl =\n",
              "        document.querySelector('#id_81b892b6-7bca-4cf2-8c1f-20706ec2686a button.colab-df-generate');\n",
              "      buttonEl.style.display =\n",
              "        google.colab.kernel.accessAllowed ? 'block' : 'none';\n",
              "\n",
              "      buttonEl.onclick = () => {\n",
              "        google.colab.notebook.generateWithVariable('dataset');\n",
              "      }\n",
              "      })();\n",
              "    </script>\n",
              "  </div>\n",
              "\n",
              "    </div>\n",
              "  </div>\n"
            ],
            "application/vnd.google.colaboratory.intrinsic+json": {
              "type": "dataframe",
              "variable_name": "dataset",
              "summary": "{\n  \"name\": \"dataset\",\n  \"rows\": 10000,\n  \"fields\": [\n    {\n      \"column\": \"content\",\n      \"properties\": {\n        \"dtype\": \"string\",\n        \"num_unique_values\": 9312,\n        \"samples\": [\n          \"Phone app has not worked for me in some time. I have been a customer since 2010 and have never had issues. I've tried uninstalling app and reinstalling, on my second time doing that and now the app will not reinstall. I've tried clearing storage and cache. Nothing is working, please help. *All other devices are working.\",\n          \"When I am in my call and doesn't show anything\",\n          \"Netflix has changed a lot over the years, and it was at one point my favorite and had great selections, it was convenient and portable, so I could share with my family when I went to college. This is no longer the case, and they have changed very much on some of their selections and ideals when allow people to share accounts. Especially with family who may be going off to do something. If you want something nice just go to Hulu or Prime. The both give discounts on students and allow you to share\"\n        ],\n        \"semantic_type\": \"\",\n        \"description\": \"\"\n      }\n    },\n    {\n      \"column\": \"score\",\n      \"properties\": {\n        \"dtype\": \"number\",\n        \"std\": 1,\n        \"min\": 0,\n        \"max\": 4,\n        \"num_unique_values\": 5,\n        \"samples\": [\n          0,\n          1,\n          3\n        ],\n        \"semantic_type\": \"\",\n        \"description\": \"\"\n      }\n    }\n  ]\n}"
            }
          },
          "metadata": {},
          "execution_count": 17
        }
      ]
    },
    {
      "cell_type": "code",
      "source": [
        "output=dataset[\"score\"]\n",
        "output"
      ],
      "metadata": {
        "colab": {
          "base_uri": "https://localhost:8080/"
        },
        "id": "XLi77AdUlBKY",
        "outputId": "95aad305-3285-4f9c-ca19-026306cfb810"
      },
      "execution_count": 18,
      "outputs": [
        {
          "output_type": "execute_result",
          "data": {
            "text/plain": [
              "0       2\n",
              "1       0\n",
              "2       0\n",
              "3       0\n",
              "4       3\n",
              "       ..\n",
              "9995    0\n",
              "9996    2\n",
              "9997    4\n",
              "9998    3\n",
              "9999    0\n",
              "Name: score, Length: 10000, dtype: int64"
            ]
          },
          "metadata": {},
          "execution_count": 18
        }
      ]
    },
    {
      "cell_type": "markdown",
      "source": [
        "# ***Artificial Neural Network (ANN)***"
      ],
      "metadata": {
        "id": "vqhxMtvZyXJ6"
      }
    },
    {
      "cell_type": "markdown",
      "source": [
        "***Applying to_categorical to Output***"
      ],
      "metadata": {
        "id": "LnKxQzxbyJXi"
      }
    },
    {
      "cell_type": "code",
      "source": [
        "output=to_categorical(output)"
      ],
      "metadata": {
        "id": "1vIsbuKwlN2L"
      },
      "execution_count": 19,
      "outputs": []
    },
    {
      "cell_type": "code",
      "execution_count": 20,
      "metadata": {
        "id": "tmFtStGlsHc2"
      },
      "outputs": [],
      "source": [
        "output=np.array(output)"
      ]
    },
    {
      "cell_type": "markdown",
      "source": [
        "***Taking input & Output for Training and Testing***"
      ],
      "metadata": {
        "id": "Lj_Sjg1YyikB"
      }
    },
    {
      "cell_type": "code",
      "execution_count": 21,
      "metadata": {
        "id": "bXqTGVKQsWvp"
      },
      "outputs": [],
      "source": [
        "x_train,x_test,y_train,y_test=train_test_split(input,output,test_size=0.3,random_state=1)"
      ]
    },
    {
      "cell_type": "markdown",
      "source": [
        "***Using sequential Algorithm Creating Neuron Model Compiling & Training that***"
      ],
      "metadata": {
        "id": "Ug5QujiYyqlO"
      }
    },
    {
      "cell_type": "code",
      "source": [
        "obj=Sequential()"
      ],
      "metadata": {
        "id": "wdWqB7BQhS8C"
      },
      "execution_count": 22,
      "outputs": []
    },
    {
      "cell_type": "code",
      "source": [
        "obj.add(Dense(5,activation=\"relu\"))\n",
        "obj.add(Dense(9,activation=\"relu\"))\n",
        "obj.add(Dense(7,activation=\"relu\"))\n",
        "obj.add(Dense(5,activation=\"softmax\"))"
      ],
      "metadata": {
        "id": "gl1Xz06Lh2lr"
      },
      "execution_count": 23,
      "outputs": []
    },
    {
      "cell_type": "code",
      "source": [
        "obj.compile(optimizer=\"adam\",loss=\"categorical_crossentropy\",metrics=[\"accuracy\"])"
      ],
      "metadata": {
        "id": "79AXWE_Ji43B"
      },
      "execution_count": 24,
      "outputs": []
    },
    {
      "cell_type": "code",
      "source": [
        "obj.fit(x_train,y_train,epochs=5,batch_size=20)"
      ],
      "metadata": {
        "colab": {
          "base_uri": "https://localhost:8080/"
        },
        "id": "Ij9YHP7wlzo7",
        "outputId": "f8f0a263-3564-4e80-ce06-5a6e6d36179b"
      },
      "execution_count": 25,
      "outputs": [
        {
          "output_type": "stream",
          "name": "stdout",
          "text": [
            "Epoch 1/5\n",
            "350/350 [==============================] - 3s 3ms/step - loss: 1.5347 - accuracy: 0.4911\n",
            "Epoch 2/5\n",
            "350/350 [==============================] - 1s 3ms/step - loss: 1.4347 - accuracy: 0.4956\n",
            "Epoch 3/5\n",
            "350/350 [==============================] - 1s 3ms/step - loss: 1.3667 - accuracy: 0.5137\n",
            "Epoch 4/5\n",
            "350/350 [==============================] - 1s 3ms/step - loss: 1.1617 - accuracy: 0.6350\n",
            "Epoch 5/5\n",
            "350/350 [==============================] - 2s 5ms/step - loss: 1.0170 - accuracy: 0.6660\n"
          ]
        },
        {
          "output_type": "execute_result",
          "data": {
            "text/plain": [
              "<keras.src.callbacks.History at 0x7d875b2a9690>"
            ]
          },
          "metadata": {},
          "execution_count": 25
        }
      ]
    },
    {
      "cell_type": "markdown",
      "source": [
        "***Got the Model with Accuracy at almost 62% with epoch=5 and 1 Input layer with 5 neurons,2 Hidden layers with 9,7 neurons and a Output layers with 5 neurons***"
      ],
      "metadata": {
        "id": "S4OPGzQ6y5lP"
      }
    },
    {
      "cell_type": "code",
      "source": [
        "obj.evaluate(x_test,y_test)"
      ],
      "metadata": {
        "colab": {
          "base_uri": "https://localhost:8080/"
        },
        "id": "f7JFQy1emiY1",
        "outputId": "13eb0072-3e67-4c89-dcbe-32a0976ce99d"
      },
      "execution_count": 26,
      "outputs": [
        {
          "output_type": "stream",
          "name": "stdout",
          "text": [
            "94/94 [==============================] - 1s 3ms/step - loss: 1.0784 - accuracy: 0.6290\n"
          ]
        },
        {
          "output_type": "execute_result",
          "data": {
            "text/plain": [
              "[1.0784307718276978, 0.6290000081062317]"
            ]
          },
          "metadata": {},
          "execution_count": 26
        }
      ]
    },
    {
      "cell_type": "markdown",
      "source": [
        "***Sample Prediction***"
      ],
      "metadata": {
        "id": "kf68McC6zfDW"
      }
    },
    {
      "cell_type": "code",
      "source": [
        "prediction=obj.predict(vectorizer.transform([\"good\"]))"
      ],
      "metadata": {
        "colab": {
          "base_uri": "https://localhost:8080/"
        },
        "id": "nPTAkWTUo-4V",
        "outputId": "e6a7730b-a5d5-4821-a0e7-722578dbbf1e"
      },
      "execution_count": 27,
      "outputs": [
        {
          "output_type": "stream",
          "name": "stdout",
          "text": [
            "1/1 [==============================] - 0s 205ms/step\n"
          ]
        }
      ]
    },
    {
      "cell_type": "code",
      "source": [
        "position=prediction.argmax(axis=1)"
      ],
      "metadata": {
        "id": "jsNJnDtCptjb"
      },
      "execution_count": 28,
      "outputs": []
    },
    {
      "cell_type": "code",
      "source": [
        "rating=encoder.inverse_transform(position)\n",
        "print (rating)"
      ],
      "metadata": {
        "colab": {
          "base_uri": "https://localhost:8080/"
        },
        "id": "EYacHaMVp4my",
        "outputId": "9c3dd7f8-26a7-41c8-d4c7-fafc227ba31f"
      },
      "execution_count": 29,
      "outputs": [
        {
          "output_type": "stream",
          "name": "stdout",
          "text": [
            "[5]\n"
          ]
        }
      ]
    },
    {
      "cell_type": "markdown",
      "source": [
        "***Taking ANN Model,Scaler & Encoder for the Streamlit Deploy***"
      ],
      "metadata": {
        "id": "lGHGjSq-z6qY"
      }
    },
    {
      "cell_type": "code",
      "source": [
        "obj.save(\"NetFlix Review Rating Model-2.h5\")"
      ],
      "metadata": {
        "id": "A9giI9ihw63d",
        "colab": {
          "base_uri": "https://localhost:8080/"
        },
        "outputId": "f81563bf-18c6-4716-914b-56a7a2996806"
      },
      "execution_count": 30,
      "outputs": [
        {
          "output_type": "stream",
          "name": "stderr",
          "text": [
            "/usr/local/lib/python3.10/dist-packages/keras/src/engine/training.py:3103: UserWarning: You are saving your model as an HDF5 file via `model.save()`. This file format is considered legacy. We recommend using instead the native Keras format, e.g. `model.save('my_model.keras')`.\n",
            "  saving_api.save_model(\n"
          ]
        }
      ]
    },
    {
      "cell_type": "code",
      "source": [
        "joblib.dump(vectorizer,\"NetFlix Vectorizer\")"
      ],
      "metadata": {
        "colab": {
          "base_uri": "https://localhost:8080/"
        },
        "id": "bEMAiRfLubAW",
        "outputId": "49037e91-0a4d-4875-ef7d-3bee951715ae"
      },
      "execution_count": 31,
      "outputs": [
        {
          "output_type": "execute_result",
          "data": {
            "text/plain": [
              "['NetFlix Vectorizer']"
            ]
          },
          "metadata": {},
          "execution_count": 31
        }
      ]
    },
    {
      "cell_type": "code",
      "source": [
        "joblib.dump(encoder,\"NetFlix Encoder\")"
      ],
      "metadata": {
        "colab": {
          "base_uri": "https://localhost:8080/"
        },
        "id": "72BO8v_Oz-LH",
        "outputId": "b531c2a6-5aac-49fb-f7ad-eafe22c6b361"
      },
      "execution_count": 32,
      "outputs": [
        {
          "output_type": "execute_result",
          "data": {
            "text/plain": [
              "['NetFlix Encoder']"
            ]
          },
          "metadata": {},
          "execution_count": 32
        }
      ]
    }
  ],
  "metadata": {
    "colab": {
      "provenance": [],
      "mount_file_id": "1v2TbBYnILAdEyDUo_eMOKO5p04RWbZ75",
      "authorship_tag": "ABX9TyNlXiO9LA65xrQUPAHSiabF",
      "include_colab_link": true
    },
    "kernelspec": {
      "display_name": "Python 3",
      "name": "python3"
    },
    "language_info": {
      "name": "python"
    }
  },
  "nbformat": 4,
  "nbformat_minor": 0
}